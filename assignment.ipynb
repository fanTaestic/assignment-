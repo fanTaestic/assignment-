{
  "metadata": {
    "language_info": {
      "codemirror_mode": {
        "name": "python",
        "version": 3
      },
      "file_extension": ".py",
      "mimetype": "text/x-python",
      "name": "python",
      "nbconvert_exporter": "python",
      "pygments_lexer": "ipython3",
      "version": "3.8"
    },
    "kernelspec": {
      "name": "python",
      "display_name": "Python (Pyodide)",
      "language": "python"
    }
  },
  "nbformat_minor": 4,
  "nbformat": 4,
  "cells": [
    {
      "cell_type": "markdown",
      "source": "# My Jupyter Notebook on IBM Watson Studio",
      "metadata": {}
    },
    {
      "cell_type": "markdown",
      "source": "**PRAGYA**\n\nI want to be Data Scientist",
      "metadata": {}
    },
    {
      "cell_type": "markdown",
      "source": "*I am interested in data science because* I love to do coding and interested in Data Management tools",
      "metadata": {}
    },
    {
      "cell_type": "markdown",
      "source": "### the following code will add the two numbers.",
      "metadata": {}
    },
    {
      "cell_type": "code",
      "source": "a=4\nb=2\nc= a+b\nprint(c)",
      "metadata": {
        "trusted": true
      },
      "execution_count": 5,
      "outputs": [
        {
          "name": "stdout",
          "text": "6\n",
          "output_type": "stream"
        }
      ]
    },
    {
      "cell_type": "markdown",
      "source": "<a href=list of groceries:>\n1. milk \n2. bread\n3. egg\n4. <del>sugar</del>",
      "metadata": {}
    }
  ]
}